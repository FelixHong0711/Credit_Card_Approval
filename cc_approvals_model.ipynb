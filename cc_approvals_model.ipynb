{
 "cells": [
  {
   "cell_type": "markdown",
   "metadata": {},
   "source": [
    "# Credit Card Approval"
   ]
  },
  {
   "cell_type": "markdown",
   "metadata": {},
   "source": [
    "* Data Source: [Kaggle - Credit Card Approval (Clean version)](https://www.kaggle.com/code/salsabilanmahmudah/cca-ann)\n",
    "* Author: Huu Phuc (Felix) Hong\n",
    "* Last Update: 10 November, 2023"
   ]
  },
  {
   "cell_type": "markdown",
   "metadata": {},
   "source": [
    "# Data Import"
   ]
  },
  {
   "cell_type": "code",
   "execution_count": 1,
   "metadata": {},
   "outputs": [],
   "source": [
    "# Library for analysis and visualization\n",
    "import pandas as pd\n",
    "import seaborn as sns\n",
    "import matplotlib.pyplot as plt\n",
    "\n",
    "# Library for modelling and scoring performance\n",
    "from sklearn.preprocessing import StandardScaler\n",
    "from sklearn.model_selection import train_test_split\n",
    "from sklearn.model_selection import GridSearchCV, cross_val_score\n",
    "from sklearn.linear_model import LogisticRegression\n",
    "from sklearn.ensemble import RandomForestClassifier\n",
    "from sklearn.tree import plot_tree\n",
    "from sklearn.neighbors import KNeighborsClassifier\n",
    "from sklearn.metrics import classification_report, confusion_matrix, accuracy_score"
   ]
  },
  {
   "cell_type": "code",
   "execution_count": 2,
   "metadata": {},
   "outputs": [],
   "source": [
    "# Import dataset\n",
    "df_process = pd.read_csv('cc_approvals_processed.csv')"
   ]
  },
  {
   "cell_type": "markdown",
   "metadata": {},
   "source": [
    "# Function Declaration"
   ]
  },
  {
   "cell_type": "code",
   "execution_count": 3,
   "metadata": {},
   "outputs": [],
   "source": [
    "# Function declaration for plotting confusion matrix after modelling\n",
    "def plot_confusion_matrix(y,y_predict):\n",
    "    cm = confusion_matrix(y, y_predict)\n",
    "    ax= plt.subplot()\n",
    "    sns.heatmap(cm, annot=True, ax = ax)\n",
    "    ax.set_xlabel('Predicted labels')\n",
    "    ax.set_ylabel('True labels')\n",
    "    ax.set_title('Confusion Matrix'); \n",
    "    ax.xaxis.set_ticklabels(['Not approved', 'Approved']); ax.yaxis.set_ticklabels(['Not approved', 'Approved']) \n",
    "    plt.show() "
   ]
  },
  {
   "cell_type": "markdown",
   "metadata": {},
   "source": [
    "# Modelling"
   ]
  },
  {
   "cell_type": "code",
   "execution_count": 4,
   "metadata": {},
   "outputs": [],
   "source": [
    "# Create input feature and target feature\n",
    "X = df_process.drop([\"Approved\"], axis=1)\n",
    "y = df_process[\"Approved\"]"
   ]
  },
  {
   "cell_type": "code",
   "execution_count": 5,
   "metadata": {},
   "outputs": [],
   "source": [
    "# Train-test split with 20% of data will be used for testing\n",
    "X_train, X_test, y_train, y_test = train_test_split(X, y, test_size=0.2, random_state=42, stratify = y)"
   ]
  },
  {
   "cell_type": "markdown",
   "metadata": {},
   "source": [
    "### RandomForest"
   ]
  },
  {
   "cell_type": "markdown",
   "metadata": {},
   "source": [
    "#### Modelling"
   ]
  },
  {
   "cell_type": "code",
   "execution_count": 6,
   "metadata": {},
   "outputs": [
    {
     "name": "stdout",
     "output_type": "stream",
     "text": [
      "Best parameters:  {'max_depth': 10, 'max_features': 'log2', 'n_estimators': 50}\n",
      "Cross-Validation Scores: [0.9009009  0.83783784 0.89090909 0.83636364 0.82727273]\n"
     ]
    }
   ],
   "source": [
    "# Create parameters for GridSearchCV\n",
    "parameters = {\n",
    "    'n_estimators': [10, 50, 100, 200],\n",
    "    'max_depth': [10, 20, 30],\n",
    "    'max_features': ['sqrt', 'log2']\n",
    "}\n",
    "\n",
    "# Create the RandomForestClassifier\n",
    "rf_classifier = RandomForestClassifier(random_state = 42, class_weight = 'balanced')\n",
    "\n",
    "# Create GridSearchCV\n",
    "rf_classifier_cv = GridSearchCV(estimator=rf_classifier, param_grid=parameters, cv=5, error_score='raise', scoring='accuracy')\n",
    "\n",
    "# Fit the GridSearchCV to find the best hyperparameters\n",
    "rf_classifier_cv.fit(X_train, y_train)\n",
    "print(\"Best parameters: \", rf_classifier_cv.best_params_)\n",
    "\n",
    "# Cross validation for avoiding overfitting\n",
    "cross_val_scores = cross_val_score(rf_classifier_cv, X_train, y_train, cv=5, scoring='accuracy')\n",
    "print(\"Cross-Validation Scores:\", cross_val_scores)\n",
    "\n",
    "# Predict target in test data \n",
    "yhat=rf_classifier_cv.predict(X_test)"
   ]
  },
  {
   "cell_type": "markdown",
   "metadata": {},
   "source": [
    "#### Plot Tree"
   ]
  },
  {
   "cell_type": "code",
   "execution_count": null,
   "metadata": {},
   "outputs": [],
   "source": [
    "plt.figure(figsize=(120, 110))\n",
    "plot_tree(\n",
    "    rf_classifier_cv.best_estimator_.estimators_[0],\n",
    "    filled=True,\n",
    "    feature_names=X_train.columns.tolist(),\n",
    "    class_names=[\"Not Approved\", \"Approved\"],\n",
    "    fontsize=10\n",
    ")\n",
    "plt.show()"
   ]
  },
  {
   "cell_type": "markdown",
   "metadata": {},
   "source": [
    "#### Confusion Matrix"
   ]
  },
  {
   "cell_type": "code",
   "execution_count": 8,
   "metadata": {},
   "outputs": [
    {
     "data": {
      "image/png": "[encoded data removed]",
      "text/plain": [
       "<Figure size 640x480 with 2 Axes>"
      ]
     },
     "metadata": {},
     "output_type": "display_data"
    }
   ],
   "source": [
    "plot_confusion_matrix(y_test,yhat)"
   ]
  },
  {
   "cell_type": "markdown",
   "metadata": {},
   "source": [
    "#### Accuracy Report"
   ]
  },
  {
   "cell_type": "code",
   "execution_count": 9,
   "metadata": {},
   "outputs": [
    {
     "name": "stdout",
     "output_type": "stream",
     "text": [
      "              precision    recall  f1-score   support\n",
      "\n",
      "           0       0.86      0.94      0.89        77\n",
      "           1       0.91      0.80      0.85        61\n",
      "\n",
      "    accuracy                           0.88       138\n",
      "   macro avg       0.88      0.87      0.87       138\n",
      "weighted avg       0.88      0.88      0.88       138\n",
      "\n"
     ]
    }
   ],
   "source": [
    "print(classification_report(y_test, yhat))"
   ]
  },
  {
   "cell_type": "code",
   "execution_count": 10,
   "metadata": {},
   "outputs": [],
   "source": [
    "accuracy_rf_cv = accuracy_score(y_test, yhat)"
   ]
  },
  {
   "cell_type": "markdown",
   "metadata": {},
   "source": [
    "### Logistic Regression"
   ]
  },
  {
   "cell_type": "markdown",
   "metadata": {},
   "source": [
    "#### Modelling"
   ]
  },
  {
   "cell_type": "code",
   "execution_count": 11,
   "metadata": {},
   "outputs": [],
   "source": [
    "# Standardize data\n",
    "X = StandardScaler().fit_transform(X)"
   ]
  },
  {
   "cell_type": "code",
   "execution_count": 12,
   "metadata": {},
   "outputs": [],
   "source": [
    "# Re split data to train-test data\n",
    "X_train, X_test, y_train, y_test = train_test_split(X, y, test_size=0.2, random_state=42)"
   ]
  },
  {
   "cell_type": "code",
   "execution_count": 13,
   "metadata": {},
   "outputs": [
    {
     "name": "stdout",
     "output_type": "stream",
     "text": [
      "Best parameters:  {'C': 0.01, 'penalty': 'l2', 'solver': 'lbfgs'}\n",
      "Cross-Validation Scores: [0.9009009  0.84684685 0.9        0.83636364 0.86363636]\n"
     ]
    }
   ],
   "source": [
    "# Create parameters for GridSearchCV\n",
    "parameters ={\"C\":[0.01,0.1,1],'penalty':['l2'], 'solver':['lbfgs']}\n",
    "\n",
    "# Create the LogisticRegression\n",
    "lr=LogisticRegression()\n",
    "\n",
    "# Create the GridSearchCV\n",
    "logreg_cv = GridSearchCV(lr, parameters, cv=10)\n",
    "\n",
    "# Fit GridSearchCV to find the best hyperparameters\n",
    "logreg_cv.fit(X_train, y_train)\n",
    "print(\"Best parameters: \", logreg_cv.best_params_)\n",
    "\n",
    "# Cross validation for avoiding overfitting\n",
    "cross_val_scores = cross_val_score(logreg_cv, X_train, y_train, cv=5, scoring='accuracy')\n",
    "print(\"Cross-Validation Scores:\", cross_val_scores)\n",
    "\n",
    "# Predict target of test set\n",
    "yhat=logreg_cv.predict(X_test)"
   ]
  },
  {
   "cell_type": "markdown",
   "metadata": {},
   "source": [
    "#### Confusion Matrix"
   ]
  },
  {
   "cell_type": "code",
   "execution_count": 14,
   "metadata": {},
   "outputs": [
    {
     "data": {
      "image/png": "[encoded data removed]",
      "text/plain": [
       "<Figure size 640x480 with 2 Axes>"
      ]
     },
     "metadata": {},
     "output_type": "display_data"
    }
   ],
   "source": [
    "plot_confusion_matrix(y_test,yhat)"
   ]
  },
  {
   "cell_type": "markdown",
   "metadata": {},
   "source": [
    "#### Accuracy Report"
   ]
  },
  {
   "cell_type": "code",
   "execution_count": 15,
   "metadata": {},
   "outputs": [
    {
     "name": "stdout",
     "output_type": "stream",
     "text": [
      "              precision    recall  f1-score   support\n",
      "\n",
      "           0       0.80      0.88      0.84        68\n",
      "           1       0.87      0.79      0.83        70\n",
      "\n",
      "    accuracy                           0.83       138\n",
      "   macro avg       0.84      0.83      0.83       138\n",
      "weighted avg       0.84      0.83      0.83       138\n",
      "\n"
     ]
    }
   ],
   "source": [
    "print(classification_report(y_test, yhat))"
   ]
  },
  {
   "cell_type": "code",
   "execution_count": 16,
   "metadata": {},
   "outputs": [],
   "source": [
    "accuracy_logreg_cv = accuracy_score(y_test, yhat)"
   ]
  },
  {
   "cell_type": "markdown",
   "metadata": {},
   "source": [
    "### K Nearest Neghibors"
   ]
  },
  {
   "cell_type": "markdown",
   "metadata": {},
   "source": [
    "#### Modelling"
   ]
  },
  {
   "cell_type": "code",
   "execution_count": 17,
   "metadata": {},
   "outputs": [
    {
     "name": "stdout",
     "output_type": "stream",
     "text": [
      "Best parameters:  {'algorithm': 'auto', 'n_neighbors': 7, 'p': 1}\n",
      "Cross-Validation Scores: [0.8018018  0.75675676 0.80909091 0.78181818 0.85454545]\n"
     ]
    }
   ],
   "source": [
    "# Create parameters for GridSearchCV\n",
    "parameters = {'n_neighbors': [1, 2, 3, 4, 5, 6, 7, 8, 9, 10],\n",
    "              'algorithm': ['auto', 'ball_tree', 'kd_tree', 'brute'],\n",
    "              'p': [1, 2]}\n",
    "\n",
    "# Create the KNeighborsClassifier\n",
    "knn = KNeighborsClassifier()\n",
    "\n",
    "# Create GridSearchCV\n",
    "knn_cv = GridSearchCV(estimator=knn, param_grid=parameters, cv=5, error_score='raise')\n",
    "\n",
    "# Fit GridSearchCV to find the best hyperparameters\n",
    "knn_cv.fit(X_train, y_train)\n",
    "print(\"Best parameters: \", knn_cv.best_params_)\n",
    "\n",
    "# Cross validation for avoiding overfitting\n",
    "cross_val_scores = cross_val_score(knn_cv, X_train, y_train, cv=5, scoring='accuracy')\n",
    "print(\"Cross-Validation Scores:\", cross_val_scores)\n",
    "\n",
    "# Predict target of test set\n",
    "yhat=knn_cv.predict(X_test)"
   ]
  },
  {
   "cell_type": "markdown",
   "metadata": {},
   "source": [
    "#### Confusion Matrix"
   ]
  },
  {
   "cell_type": "code",
   "execution_count": 18,
   "metadata": {},
   "outputs": [
    {
     "data": {
      "image/png": "[encoded data removed]",
      "text/plain": [
       "<Figure size 640x480 with 2 Axes>"
      ]
     },
     "metadata": {},
     "output_type": "display_data"
    }
   ],
   "source": [
    "plot_confusion_matrix(y_test,yhat)"
   ]
  },
  {
   "cell_type": "markdown",
   "metadata": {},
   "source": [
    "#### Accuracy Report"
   ]
  },
  {
   "cell_type": "code",
   "execution_count": 19,
   "metadata": {},
   "outputs": [
    {
     "name": "stdout",
     "output_type": "stream",
     "text": [
      "              precision    recall  f1-score   support\n",
      "\n",
      "           0       0.69      0.85      0.76        68\n",
      "           1       0.81      0.63      0.71        70\n",
      "\n",
      "    accuracy                           0.74       138\n",
      "   macro avg       0.75      0.74      0.74       138\n",
      "weighted avg       0.75      0.74      0.74       138\n",
      "\n"
     ]
    }
   ],
   "source": [
    "print(classification_report(y_test, yhat))"
   ]
  },
  {
   "cell_type": "code",
   "execution_count": 20,
   "metadata": {},
   "outputs": [],
   "source": [
    "accuracy_knn_cv = accuracy_score(y_test, yhat)"
   ]
  },
  {
   "cell_type": "markdown",
   "metadata": {},
   "source": [
    "### Summary"
   ]
  },
  {
   "cell_type": "markdown",
   "metadata": {},
   "source": [
    "From the report below, among 3 models, using Random Forest Classifier performed best in this dataset"
   ]
  },
  {
   "cell_type": "code",
   "execution_count": 45,
   "metadata": {},
   "outputs": [
    {
     "data": {
      "text/html": [
       "<div>\n",
       "<style scoped>\n",
       "    .dataframe tbody tr th:only-of-type {\n",
       "        vertical-align: middle;\n",
       "    }\n",
       "\n",
       "    .dataframe tbody tr th {\n",
       "        vertical-align: top;\n",
       "    }\n",
       "\n",
       "    .dataframe thead th {\n",
       "        text-align: right;\n",
       "    }\n",
       "</style>\n",
       "<table border=\"1\" class=\"dataframe\">\n",
       "  <thead>\n",
       "    <tr style=\"text-align: right;\">\n",
       "      <th></th>\n",
       "      <th>Model</th>\n",
       "      <th>Accuracy (%)</th>\n",
       "    </tr>\n",
       "  </thead>\n",
       "  <tbody>\n",
       "    <tr>\n",
       "      <th>0</th>\n",
       "      <td>RF Classifier</td>\n",
       "      <td>0.88</td>\n",
       "    </tr>\n",
       "    <tr>\n",
       "      <th>1</th>\n",
       "      <td>LR</td>\n",
       "      <td>0.83</td>\n",
       "    </tr>\n",
       "    <tr>\n",
       "      <th>2</th>\n",
       "      <td>KNN</td>\n",
       "      <td>0.74</td>\n",
       "    </tr>\n",
       "  </tbody>\n",
       "</table>\n",
       "</div>"
      ],
      "text/plain": [
       "           Model  Accuracy (%)\n",
       "0  RF Classifier          0.88\n",
       "1             LR          0.83\n",
       "2            KNN          0.74"
      ]
     },
     "execution_count": 45,
     "metadata": {},
     "output_type": "execute_result"
    }
   ],
   "source": [
    "report = pd.DataFrame({\"Model\":[\"RF Classifier\", \"LR\", \"KNN\"],\n",
    "                       \"Accuracy (%)\": [round(accuracy_rf_cv,2), round(accuracy_logreg_cv,2), round(accuracy_knn_cv,2)]})\n",
    "report"
   ]
  }
 ],
 "metadata": {
  "kernelspec": {
   "display_name": "base",
   "language": "python",
   "name": "python3"
  },
  "language_info": {
   "codemirror_mode": {
    "name": "ipython",
    "version": 3
   },
   "file_extension": ".py",
   "mimetype": "text/x-python",
   "name": "python",
   "nbconvert_exporter": "python",
   "pygments_lexer": "ipython3",
   "version": "3.11.4"
  },
  "orig_nbformat": 4
 },
 "nbformat": 4,
 "nbformat_minor": 2
}
